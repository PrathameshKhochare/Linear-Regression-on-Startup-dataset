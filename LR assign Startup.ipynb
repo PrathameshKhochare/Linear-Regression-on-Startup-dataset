{
 "cells": [
  {
   "cell_type": "markdown",
   "id": "d481cb2a",
   "metadata": {},
   "source": [
    "### Objective\n",
    "To predict the profit made by a startup on the basis of expenses incurred and the state where they operate\n",
    "### Tasks\n",
    "Validate all the assumptions\n",
    "Compute all the regression evaluation metrics\n",
    "Comment on the best evaluation metrics for this problem"
   ]
  },
  {
   "cell_type": "code",
   "execution_count": 1,
   "id": "396044a1",
   "metadata": {},
   "outputs": [],
   "source": [
    "# Importing the libraries\n",
    "import numpy as np\n",
    "import pandas as pd\n",
    "from numpy import math\n",
    "\n",
    "from sklearn.preprocessing import MinMaxScaler\n",
    "from sklearn.model_selection import train_test_split\n",
    "from sklearn.linear_model import LinearRegression\n",
    "from sklearn.metrics import r2_score\n",
    "from sklearn.metrics import mean_squared_error\n",
    "\n",
    "import matplotlib.pyplot as plt"
   ]
  },
  {
   "cell_type": "code",
   "execution_count": 7,
   "id": "b7e9f3fa",
   "metadata": {},
   "outputs": [],
   "source": [
    "df = pd.read_csv('C:\\\\Users\\\\Prathamesh\\\\Downloads\\\\50_Startups.csv')"
   ]
  },
  {
   "cell_type": "code",
   "execution_count": 9,
   "id": "31b0bc5a",
   "metadata": {},
   "outputs": [
    {
     "data": {
      "text/html": [
       "<div>\n",
       "<style scoped>\n",
       "    .dataframe tbody tr th:only-of-type {\n",
       "        vertical-align: middle;\n",
       "    }\n",
       "\n",
       "    .dataframe tbody tr th {\n",
       "        vertical-align: top;\n",
       "    }\n",
       "\n",
       "    .dataframe thead th {\n",
       "        text-align: right;\n",
       "    }\n",
       "</style>\n",
       "<table border=\"1\" class=\"dataframe\">\n",
       "  <thead>\n",
       "    <tr style=\"text-align: right;\">\n",
       "      <th></th>\n",
       "      <th>R&amp;D Spend</th>\n",
       "      <th>Administration</th>\n",
       "      <th>Marketing Spend</th>\n",
       "      <th>State</th>\n",
       "      <th>Profit</th>\n",
       "    </tr>\n",
       "  </thead>\n",
       "  <tbody>\n",
       "    <tr>\n",
       "      <th>0</th>\n",
       "      <td>165349.20</td>\n",
       "      <td>136897.80</td>\n",
       "      <td>471784.10</td>\n",
       "      <td>New York</td>\n",
       "      <td>192261.83</td>\n",
       "    </tr>\n",
       "    <tr>\n",
       "      <th>1</th>\n",
       "      <td>162597.70</td>\n",
       "      <td>151377.59</td>\n",
       "      <td>443898.53</td>\n",
       "      <td>California</td>\n",
       "      <td>191792.06</td>\n",
       "    </tr>\n",
       "    <tr>\n",
       "      <th>2</th>\n",
       "      <td>153441.51</td>\n",
       "      <td>101145.55</td>\n",
       "      <td>407934.54</td>\n",
       "      <td>Florida</td>\n",
       "      <td>191050.39</td>\n",
       "    </tr>\n",
       "    <tr>\n",
       "      <th>3</th>\n",
       "      <td>144372.41</td>\n",
       "      <td>118671.85</td>\n",
       "      <td>383199.62</td>\n",
       "      <td>New York</td>\n",
       "      <td>182901.99</td>\n",
       "    </tr>\n",
       "    <tr>\n",
       "      <th>4</th>\n",
       "      <td>142107.34</td>\n",
       "      <td>91391.77</td>\n",
       "      <td>366168.42</td>\n",
       "      <td>Florida</td>\n",
       "      <td>166187.94</td>\n",
       "    </tr>\n",
       "  </tbody>\n",
       "</table>\n",
       "</div>"
      ],
      "text/plain": [
       "   R&D Spend  Administration  Marketing Spend       State     Profit\n",
       "0  165349.20       136897.80        471784.10    New York  192261.83\n",
       "1  162597.70       151377.59        443898.53  California  191792.06\n",
       "2  153441.51       101145.55        407934.54     Florida  191050.39\n",
       "3  144372.41       118671.85        383199.62    New York  182901.99\n",
       "4  142107.34        91391.77        366168.42     Florida  166187.94"
      ]
     },
     "execution_count": 9,
     "metadata": {},
     "output_type": "execute_result"
    }
   ],
   "source": [
    "df.head()"
   ]
  },
  {
   "cell_type": "code",
   "execution_count": 11,
   "id": "bc75e0be",
   "metadata": {},
   "outputs": [
    {
     "data": {
      "text/html": [
       "<div>\n",
       "<style scoped>\n",
       "    .dataframe tbody tr th:only-of-type {\n",
       "        vertical-align: middle;\n",
       "    }\n",
       "\n",
       "    .dataframe tbody tr th {\n",
       "        vertical-align: top;\n",
       "    }\n",
       "\n",
       "    .dataframe thead th {\n",
       "        text-align: right;\n",
       "    }\n",
       "</style>\n",
       "<table border=\"1\" class=\"dataframe\">\n",
       "  <thead>\n",
       "    <tr style=\"text-align: right;\">\n",
       "      <th></th>\n",
       "      <th>R&amp;D Spend</th>\n",
       "      <th>Administration</th>\n",
       "      <th>Marketing Spend</th>\n",
       "      <th>Profit</th>\n",
       "    </tr>\n",
       "  </thead>\n",
       "  <tbody>\n",
       "    <tr>\n",
       "      <th>count</th>\n",
       "      <td>50.000000</td>\n",
       "      <td>50.000000</td>\n",
       "      <td>50.000000</td>\n",
       "      <td>50.000000</td>\n",
       "    </tr>\n",
       "    <tr>\n",
       "      <th>mean</th>\n",
       "      <td>73721.615600</td>\n",
       "      <td>121344.639600</td>\n",
       "      <td>211025.097800</td>\n",
       "      <td>112012.639200</td>\n",
       "    </tr>\n",
       "    <tr>\n",
       "      <th>std</th>\n",
       "      <td>45902.256482</td>\n",
       "      <td>28017.802755</td>\n",
       "      <td>122290.310726</td>\n",
       "      <td>40306.180338</td>\n",
       "    </tr>\n",
       "    <tr>\n",
       "      <th>min</th>\n",
       "      <td>0.000000</td>\n",
       "      <td>51283.140000</td>\n",
       "      <td>0.000000</td>\n",
       "      <td>14681.400000</td>\n",
       "    </tr>\n",
       "    <tr>\n",
       "      <th>25%</th>\n",
       "      <td>39936.370000</td>\n",
       "      <td>103730.875000</td>\n",
       "      <td>129300.132500</td>\n",
       "      <td>90138.902500</td>\n",
       "    </tr>\n",
       "    <tr>\n",
       "      <th>50%</th>\n",
       "      <td>73051.080000</td>\n",
       "      <td>122699.795000</td>\n",
       "      <td>212716.240000</td>\n",
       "      <td>107978.190000</td>\n",
       "    </tr>\n",
       "    <tr>\n",
       "      <th>75%</th>\n",
       "      <td>101602.800000</td>\n",
       "      <td>144842.180000</td>\n",
       "      <td>299469.085000</td>\n",
       "      <td>139765.977500</td>\n",
       "    </tr>\n",
       "    <tr>\n",
       "      <th>max</th>\n",
       "      <td>165349.200000</td>\n",
       "      <td>182645.560000</td>\n",
       "      <td>471784.100000</td>\n",
       "      <td>192261.830000</td>\n",
       "    </tr>\n",
       "  </tbody>\n",
       "</table>\n",
       "</div>"
      ],
      "text/plain": [
       "           R&D Spend  Administration  Marketing Spend         Profit\n",
       "count      50.000000       50.000000        50.000000      50.000000\n",
       "mean    73721.615600   121344.639600    211025.097800  112012.639200\n",
       "std     45902.256482    28017.802755    122290.310726   40306.180338\n",
       "min         0.000000    51283.140000         0.000000   14681.400000\n",
       "25%     39936.370000   103730.875000    129300.132500   90138.902500\n",
       "50%     73051.080000   122699.795000    212716.240000  107978.190000\n",
       "75%    101602.800000   144842.180000    299469.085000  139765.977500\n",
       "max    165349.200000   182645.560000    471784.100000  192261.830000"
      ]
     },
     "execution_count": 11,
     "metadata": {},
     "output_type": "execute_result"
    }
   ],
   "source": [
    "df.describe()"
   ]
  },
  {
   "cell_type": "code",
   "execution_count": 12,
   "id": "23906edc",
   "metadata": {},
   "outputs": [
    {
     "name": "stdout",
     "output_type": "stream",
     "text": [
      "<class 'pandas.core.frame.DataFrame'>\n",
      "RangeIndex: 50 entries, 0 to 49\n",
      "Data columns (total 5 columns):\n",
      " #   Column           Non-Null Count  Dtype  \n",
      "---  ------           --------------  -----  \n",
      " 0   R&D Spend        50 non-null     float64\n",
      " 1   Administration   50 non-null     float64\n",
      " 2   Marketing Spend  50 non-null     float64\n",
      " 3   State            50 non-null     object \n",
      " 4   Profit           50 non-null     float64\n",
      "dtypes: float64(4), object(1)\n",
      "memory usage: 2.1+ KB\n"
     ]
    }
   ],
   "source": [
    "df.info()"
   ]
  },
  {
   "cell_type": "code",
   "execution_count": null,
   "id": "4a33f0b1",
   "metadata": {},
   "outputs": [],
   "source": []
  },
  {
   "cell_type": "code",
   "execution_count": 13,
   "id": "0dc5cff0",
   "metadata": {},
   "outputs": [
    {
     "data": {
      "text/plain": [
       "(50, 5)"
      ]
     },
     "execution_count": 13,
     "metadata": {},
     "output_type": "execute_result"
    }
   ],
   "source": [
    "df.shape"
   ]
  },
  {
   "cell_type": "markdown",
   "id": "4b36fb77",
   "metadata": {},
   "source": [
    "### Scatter plot between independent and dependent variables"
   ]
  },
  {
   "cell_type": "code",
   "execution_count": 14,
   "id": "5c5769e7",
   "metadata": {},
   "outputs": [
    {
     "data": {
      "text/plain": [
       "Text(0, 0.5, 'Profit')"
      ]
     },
     "execution_count": 14,
     "metadata": {},
     "output_type": "execute_result"
    },
    {
     "data": {
      "image/png": "[encoded data removed]",
      "text/plain": [
       "<Figure size 432x288 with 1 Axes>"
      ]
     },
     "metadata": {
      "needs_background": "light"
     },
     "output_type": "display_data"
    }
   ],
   "source": [
    "plt.scatter(df['Marketing Spend'],df['Profit'])\n",
    "plt.title('plot betwn Profit and Marketing Spend')\n",
    "plt.xlabel('Marketing Spend')\n",
    "plt.ylabel('Profit')"
   ]
  },
  {
   "cell_type": "code",
   "execution_count": 15,
   "id": "4017b69f",
   "metadata": {},
   "outputs": [
    {
     "data": {
      "text/plain": [
       "Text(0, 0.5, 'Profit')"
      ]
     },
     "execution_count": 15,
     "metadata": {},
     "output_type": "execute_result"
    },
    {
     "data": {
      "image/png": "[encoded data removed]",
      "text/plain": [
       "<Figure size 432x288 with 1 Axes>"
      ]
     },
     "metadata": {
      "needs_background": "light"
     },
     "output_type": "display_data"
    }
   ],
   "source": [
    "plt.scatter(df['R&D Spend'],df['Profit'])\n",
    "plt.title('plot betwn Profit and R&D Spend')\n",
    "plt.xlabel('R&D Spend')\n",
    "plt.ylabel('Profit')"
   ]
  },
  {
   "cell_type": "code",
   "execution_count": 16,
   "id": "b706cfe5",
   "metadata": {},
   "outputs": [
    {
     "data": {
      "text/plain": [
       "Text(0, 0.5, 'Profit')"
      ]
     },
     "execution_count": 16,
     "metadata": {},
     "output_type": "execute_result"
    },
    {
     "data": {
      "image/png": "[encoded data removed]",
      "text/plain": [
       "<Figure size 432x288 with 1 Axes>"
      ]
     },
     "metadata": {
      "needs_background": "light"
     },
     "output_type": "display_data"
    }
   ],
   "source": [
    "plt.scatter(df['Administration'],df['Profit'])\n",
    "plt.title('plot betwn Profit and Administration')\n",
    "plt.xlabel('Administration')\n",
    "plt.ylabel('Profit')"
   ]
  },
  {
   "cell_type": "code",
   "execution_count": 19,
   "id": "655da0e5",
   "metadata": {},
   "outputs": [
    {
     "data": {
      "text/plain": [
       "Text(0, 0.5, 'Profit')"
      ]
     },
     "execution_count": 19,
     "metadata": {},
     "output_type": "execute_result"
    },
    {
     "data": {
      "image/png": "[encoded data removed]",
      "text/plain": [
       "<Figure size 432x288 with 1 Axes>"
      ]
     },
     "metadata": {
      "needs_background": "light"
     },
     "output_type": "display_data"
    }
   ],
   "source": [
    "# check for avg profit for diff states\n",
    "# fig object set\n",
    "ax = df.groupby(['State'])['Profit'].mean().plot.bar()\n",
    "ax.set_title('avg profit for diff states')\n",
    "ax.set_xlabel('state')\n",
    "ax.set_ylabel('Profit')"
   ]
  },
  {
   "cell_type": "code",
   "execution_count": 25,
   "id": "3282e564",
   "metadata": {
    "scrolled": true
   },
   "outputs": [
    {
     "data": {
      "text/plain": [
       "New York      17\n",
       "California    17\n",
       "Florida       16\n",
       "Name: State, dtype: int64"
      ]
     },
     "execution_count": 25,
     "metadata": {},
     "output_type": "execute_result"
    }
   ],
   "source": [
    "# check for count of states\n",
    "df.State.value_counts()"
   ]
  },
  {
   "cell_type": "code",
   "execution_count": 26,
   "id": "7d6ea951",
   "metadata": {},
   "outputs": [],
   "source": [
    "# dummy variable creation for categorical column State\n",
    "df['NewYork_state'] = np.where(df['State'] == 'New York', 1,0)\n",
    "df['California_state'] = np.where(df['State'] == 'California', 1,0)\n",
    "df['Florida_state'] = np.where(df['State'] == 'Florida', 1,0)"
   ]
  },
  {
   "cell_type": "code",
   "execution_count": 28,
   "id": "b7038af6",
   "metadata": {},
   "outputs": [],
   "source": [
    "df.drop(columns = ['State'], axis =1 , inplace = True)"
   ]
  },
  {
   "cell_type": "code",
   "execution_count": 29,
   "id": "e55a7514",
   "metadata": {},
   "outputs": [
    {
     "data": {
      "text/html": [
       "<div>\n",
       "<style scoped>\n",
       "    .dataframe tbody tr th:only-of-type {\n",
       "        vertical-align: middle;\n",
       "    }\n",
       "\n",
       "    .dataframe tbody tr th {\n",
       "        vertical-align: top;\n",
       "    }\n",
       "\n",
       "    .dataframe thead th {\n",
       "        text-align: right;\n",
       "    }\n",
       "</style>\n",
       "<table border=\"1\" class=\"dataframe\">\n",
       "  <thead>\n",
       "    <tr style=\"text-align: right;\">\n",
       "      <th></th>\n",
       "      <th>R&amp;D Spend</th>\n",
       "      <th>Administration</th>\n",
       "      <th>Marketing Spend</th>\n",
       "      <th>Profit</th>\n",
       "      <th>NewYork_state</th>\n",
       "      <th>California_state</th>\n",
       "      <th>Florida_state</th>\n",
       "    </tr>\n",
       "  </thead>\n",
       "  <tbody>\n",
       "    <tr>\n",
       "      <th>0</th>\n",
       "      <td>165349.20</td>\n",
       "      <td>136897.80</td>\n",
       "      <td>471784.10</td>\n",
       "      <td>192261.83</td>\n",
       "      <td>1</td>\n",
       "      <td>0</td>\n",
       "      <td>0</td>\n",
       "    </tr>\n",
       "    <tr>\n",
       "      <th>1</th>\n",
       "      <td>162597.70</td>\n",
       "      <td>151377.59</td>\n",
       "      <td>443898.53</td>\n",
       "      <td>191792.06</td>\n",
       "      <td>0</td>\n",
       "      <td>1</td>\n",
       "      <td>0</td>\n",
       "    </tr>\n",
       "    <tr>\n",
       "      <th>2</th>\n",
       "      <td>153441.51</td>\n",
       "      <td>101145.55</td>\n",
       "      <td>407934.54</td>\n",
       "      <td>191050.39</td>\n",
       "      <td>0</td>\n",
       "      <td>0</td>\n",
       "      <td>1</td>\n",
       "    </tr>\n",
       "    <tr>\n",
       "      <th>3</th>\n",
       "      <td>144372.41</td>\n",
       "      <td>118671.85</td>\n",
       "      <td>383199.62</td>\n",
       "      <td>182901.99</td>\n",
       "      <td>1</td>\n",
       "      <td>0</td>\n",
       "      <td>0</td>\n",
       "    </tr>\n",
       "    <tr>\n",
       "      <th>4</th>\n",
       "      <td>142107.34</td>\n",
       "      <td>91391.77</td>\n",
       "      <td>366168.42</td>\n",
       "      <td>166187.94</td>\n",
       "      <td>0</td>\n",
       "      <td>0</td>\n",
       "      <td>1</td>\n",
       "    </tr>\n",
       "  </tbody>\n",
       "</table>\n",
       "</div>"
      ],
      "text/plain": [
       "   R&D Spend  Administration  Marketing Spend     Profit  NewYork_state  \\\n",
       "0  165349.20       136897.80        471784.10  192261.83              1   \n",
       "1  162597.70       151377.59        443898.53  191792.06              0   \n",
       "2  153441.51       101145.55        407934.54  191050.39              0   \n",
       "3  144372.41       118671.85        383199.62  182901.99              1   \n",
       "4  142107.34        91391.77        366168.42  166187.94              0   \n",
       "\n",
       "   California_state  Florida_state  \n",
       "0                 0              0  \n",
       "1                 1              0  \n",
       "2                 0              1  \n",
       "3                 0              0  \n",
       "4                 0              1  "
      ]
     },
     "execution_count": 29,
     "metadata": {},
     "output_type": "execute_result"
    }
   ],
   "source": [
    "df.head()"
   ]
  },
  {
   "cell_type": "markdown",
   "id": "e584bfc9",
   "metadata": {},
   "source": [
    "### ML Modeling"
   ]
  },
  {
   "cell_type": "code",
   "execution_count": 31,
   "id": "27c280d6",
   "metadata": {},
   "outputs": [],
   "source": [
    "# Dependent feature is profit\n",
    "dependent_variable = 'Profit'\n",
    "\n",
    "# list of independent variables\n",
    "independent_variables = list(set(df.columns.tolist()) - {dependent_variable} )"
   ]
  },
  {
   "cell_type": "code",
   "execution_count": 32,
   "id": "37943d7c",
   "metadata": {},
   "outputs": [
    {
     "data": {
      "text/plain": [
       "['R&D Spend',\n",
       " 'NewYork_state',\n",
       " 'Administration',\n",
       " 'Marketing Spend',\n",
       " 'California_state',\n",
       " 'Florida_state']"
      ]
     },
     "execution_count": 32,
     "metadata": {},
     "output_type": "execute_result"
    }
   ],
   "source": [
    "independent_variables"
   ]
  },
  {
   "cell_type": "code",
   "execution_count": 35,
   "id": "440afb57",
   "metadata": {},
   "outputs": [],
   "source": [
    "# array of independent variables X\n",
    "X = df[independent_variables].values"
   ]
  },
  {
   "cell_type": "code",
   "execution_count": 36,
   "id": "80b68527",
   "metadata": {},
   "outputs": [
    {
     "data": {
      "text/plain": [
       "array([[1.6534920e+05, 1.0000000e+00, 1.3689780e+05, 4.7178410e+05,\n",
       "        0.0000000e+00, 0.0000000e+00],\n",
       "       [1.6259770e+05, 0.0000000e+00, 1.5137759e+05, 4.4389853e+05,\n",
       "        1.0000000e+00, 0.0000000e+00],\n",
       "       [1.5344151e+05, 0.0000000e+00, 1.0114555e+05, 4.0793454e+05,\n",
       "        0.0000000e+00, 1.0000000e+00],\n",
       "       [1.4437241e+05, 1.0000000e+00, 1.1867185e+05, 3.8319962e+05,\n",
       "        0.0000000e+00, 0.0000000e+00],\n",
       "       [1.4210734e+05, 0.0000000e+00, 9.1391770e+04, 3.6616842e+05,\n",
       "        0.0000000e+00, 1.0000000e+00],\n",
       "       [1.3187690e+05, 1.0000000e+00, 9.9814710e+04, 3.6286136e+05,\n",
       "        0.0000000e+00, 0.0000000e+00],\n",
       "       [1.3461546e+05, 0.0000000e+00, 1.4719887e+05, 1.2771682e+05,\n",
       "        1.0000000e+00, 0.0000000e+00],\n",
       "       [1.3029813e+05, 0.0000000e+00, 1.4553006e+05, 3.2387668e+05,\n",
       "        0.0000000e+00, 1.0000000e+00],\n",
       "       [1.2054252e+05, 1.0000000e+00, 1.4871895e+05, 3.1161329e+05,\n",
       "        0.0000000e+00, 0.0000000e+00],\n",
       "       [1.2333488e+05, 0.0000000e+00, 1.0867917e+05, 3.0498162e+05,\n",
       "        1.0000000e+00, 0.0000000e+00],\n",
       "       [1.0191308e+05, 0.0000000e+00, 1.1059411e+05, 2.2916095e+05,\n",
       "        0.0000000e+00, 1.0000000e+00],\n",
       "       [1.0067196e+05, 0.0000000e+00, 9.1790610e+04, 2.4974455e+05,\n",
       "        1.0000000e+00, 0.0000000e+00],\n",
       "       [9.3863750e+04, 0.0000000e+00, 1.2732038e+05, 2.4983944e+05,\n",
       "        0.0000000e+00, 1.0000000e+00],\n",
       "       [9.1992390e+04, 0.0000000e+00, 1.3549507e+05, 2.5266493e+05,\n",
       "        1.0000000e+00, 0.0000000e+00],\n",
       "       [1.1994324e+05, 0.0000000e+00, 1.5654742e+05, 2.5651292e+05,\n",
       "        0.0000000e+00, 1.0000000e+00],\n",
       "       [1.1452361e+05, 1.0000000e+00, 1.2261684e+05, 2.6177623e+05,\n",
       "        0.0000000e+00, 0.0000000e+00],\n",
       "       [7.8013110e+04, 0.0000000e+00, 1.2159755e+05, 2.6434606e+05,\n",
       "        1.0000000e+00, 0.0000000e+00],\n",
       "       [9.4657160e+04, 1.0000000e+00, 1.4507758e+05, 2.8257431e+05,\n",
       "        0.0000000e+00, 0.0000000e+00],\n",
       "       [9.1749160e+04, 0.0000000e+00, 1.1417579e+05, 2.9491957e+05,\n",
       "        0.0000000e+00, 1.0000000e+00],\n",
       "       [8.6419700e+04, 1.0000000e+00, 1.5351411e+05, 0.0000000e+00,\n",
       "        0.0000000e+00, 0.0000000e+00],\n",
       "       [7.6253860e+04, 0.0000000e+00, 1.1386730e+05, 2.9866447e+05,\n",
       "        1.0000000e+00, 0.0000000e+00],\n",
       "       [7.8389470e+04, 1.0000000e+00, 1.5377343e+05, 2.9973729e+05,\n",
       "        0.0000000e+00, 0.0000000e+00],\n",
       "       [7.3994560e+04, 0.0000000e+00, 1.2278275e+05, 3.0331926e+05,\n",
       "        0.0000000e+00, 1.0000000e+00],\n",
       "       [6.7532530e+04, 0.0000000e+00, 1.0575103e+05, 3.0476873e+05,\n",
       "        0.0000000e+00, 1.0000000e+00],\n",
       "       [7.7044010e+04, 1.0000000e+00, 9.9281340e+04, 1.4057481e+05,\n",
       "        0.0000000e+00, 0.0000000e+00],\n",
       "       [6.4664710e+04, 0.0000000e+00, 1.3955316e+05, 1.3796262e+05,\n",
       "        1.0000000e+00, 0.0000000e+00],\n",
       "       [7.5328870e+04, 0.0000000e+00, 1.4413598e+05, 1.3405007e+05,\n",
       "        0.0000000e+00, 1.0000000e+00],\n",
       "       [7.2107600e+04, 1.0000000e+00, 1.2786455e+05, 3.5318381e+05,\n",
       "        0.0000000e+00, 0.0000000e+00],\n",
       "       [6.6051520e+04, 0.0000000e+00, 1.8264556e+05, 1.1814820e+05,\n",
       "        0.0000000e+00, 1.0000000e+00],\n",
       "       [6.5605480e+04, 1.0000000e+00, 1.5303206e+05, 1.0713838e+05,\n",
       "        0.0000000e+00, 0.0000000e+00],\n",
       "       [6.1994480e+04, 0.0000000e+00, 1.1564128e+05, 9.1131240e+04,\n",
       "        0.0000000e+00, 1.0000000e+00],\n",
       "       [6.1136380e+04, 1.0000000e+00, 1.5270192e+05, 8.8218230e+04,\n",
       "        0.0000000e+00, 0.0000000e+00],\n",
       "       [6.3408860e+04, 0.0000000e+00, 1.2921961e+05, 4.6085250e+04,\n",
       "        1.0000000e+00, 0.0000000e+00],\n",
       "       [5.5493950e+04, 0.0000000e+00, 1.0305749e+05, 2.1463481e+05,\n",
       "        0.0000000e+00, 1.0000000e+00],\n",
       "       [4.6426070e+04, 0.0000000e+00, 1.5769392e+05, 2.1079767e+05,\n",
       "        1.0000000e+00, 0.0000000e+00],\n",
       "       [4.6014020e+04, 1.0000000e+00, 8.5047440e+04, 2.0551764e+05,\n",
       "        0.0000000e+00, 0.0000000e+00],\n",
       "       [2.8663760e+04, 0.0000000e+00, 1.2705621e+05, 2.0112682e+05,\n",
       "        0.0000000e+00, 1.0000000e+00],\n",
       "       [4.4069950e+04, 0.0000000e+00, 5.1283140e+04, 1.9702942e+05,\n",
       "        1.0000000e+00, 0.0000000e+00],\n",
       "       [2.0229590e+04, 1.0000000e+00, 6.5947930e+04, 1.8526510e+05,\n",
       "        0.0000000e+00, 0.0000000e+00],\n",
       "       [3.8558510e+04, 0.0000000e+00, 8.2982090e+04, 1.7499930e+05,\n",
       "        1.0000000e+00, 0.0000000e+00],\n",
       "       [2.8754330e+04, 0.0000000e+00, 1.1854605e+05, 1.7279567e+05,\n",
       "        1.0000000e+00, 0.0000000e+00],\n",
       "       [2.7892920e+04, 0.0000000e+00, 8.4710770e+04, 1.6447071e+05,\n",
       "        0.0000000e+00, 1.0000000e+00],\n",
       "       [2.3640930e+04, 0.0000000e+00, 9.6189630e+04, 1.4800111e+05,\n",
       "        1.0000000e+00, 0.0000000e+00],\n",
       "       [1.5505730e+04, 1.0000000e+00, 1.2738230e+05, 3.5534170e+04,\n",
       "        0.0000000e+00, 0.0000000e+00],\n",
       "       [2.2177740e+04, 0.0000000e+00, 1.5480614e+05, 2.8334720e+04,\n",
       "        1.0000000e+00, 0.0000000e+00],\n",
       "       [1.0002300e+03, 1.0000000e+00, 1.2415304e+05, 1.9039300e+03,\n",
       "        0.0000000e+00, 0.0000000e+00],\n",
       "       [1.3154600e+03, 0.0000000e+00, 1.1581621e+05, 2.9711446e+05,\n",
       "        0.0000000e+00, 1.0000000e+00],\n",
       "       [0.0000000e+00, 0.0000000e+00, 1.3542692e+05, 0.0000000e+00,\n",
       "        1.0000000e+00, 0.0000000e+00],\n",
       "       [5.4205000e+02, 1.0000000e+00, 5.1743150e+04, 0.0000000e+00,\n",
       "        0.0000000e+00, 0.0000000e+00],\n",
       "       [0.0000000e+00, 0.0000000e+00, 1.1698380e+05, 4.5173060e+04,\n",
       "        1.0000000e+00, 0.0000000e+00]])"
      ]
     },
     "execution_count": 36,
     "metadata": {},
     "output_type": "execute_result"
    }
   ],
   "source": [
    "X"
   ]
  },
  {
   "cell_type": "code",
   "execution_count": 37,
   "id": "d17e2eae",
   "metadata": {},
   "outputs": [],
   "source": [
    "# array of dependent variable y\n",
    "y = df[dependent_variable].values"
   ]
  },
  {
   "cell_type": "code",
   "execution_count": 39,
   "id": "c0c82b0a",
   "metadata": {},
   "outputs": [
    {
     "data": {
      "text/plain": [
       "50"
      ]
     },
     "execution_count": 39,
     "metadata": {},
     "output_type": "execute_result"
    }
   ],
   "source": [
    "y.size"
   ]
  },
  {
   "cell_type": "markdown",
   "id": "fbca749e",
   "metadata": {},
   "source": [
    "### Train test split"
   ]
  },
  {
   "cell_type": "code",
   "execution_count": 40,
   "id": "9cab9dbd",
   "metadata": {},
   "outputs": [],
   "source": [
    "#importing\n",
    "from sklearn.model_selection import train_test_split\n",
    "\n",
    "X_train, X_test, y_train, y_test = train_test_split(\n",
    " X, y, test_size=0.20, random_state=0)"
   ]
  },
  {
   "cell_type": "code",
   "execution_count": 41,
   "id": "4577d30c",
   "metadata": {},
   "outputs": [
    {
     "data": {
      "text/plain": [
       "array([[5.5493950e+04, 0.0000000e+00, 1.0305749e+05, 2.1463481e+05,\n",
       "        0.0000000e+00, 1.0000000e+00],\n",
       "       [4.6014020e+04, 1.0000000e+00, 8.5047440e+04, 2.0551764e+05,\n",
       "        0.0000000e+00, 0.0000000e+00],\n",
       "       [7.5328870e+04, 0.0000000e+00, 1.4413598e+05, 1.3405007e+05,\n",
       "        0.0000000e+00, 1.0000000e+00],\n",
       "       [4.6426070e+04, 0.0000000e+00, 1.5769392e+05, 2.1079767e+05,\n",
       "        1.0000000e+00, 0.0000000e+00],\n",
       "       [9.1749160e+04, 0.0000000e+00, 1.1417579e+05, 2.9491957e+05,\n",
       "        0.0000000e+00, 1.0000000e+00],\n",
       "       [1.3029813e+05, 0.0000000e+00, 1.4553006e+05, 3.2387668e+05,\n",
       "        0.0000000e+00, 1.0000000e+00],\n",
       "       [1.1994324e+05, 0.0000000e+00, 1.5654742e+05, 2.5651292e+05,\n",
       "        0.0000000e+00, 1.0000000e+00],\n",
       "       [1.0002300e+03, 1.0000000e+00, 1.2415304e+05, 1.9039300e+03,\n",
       "        0.0000000e+00, 0.0000000e+00],\n",
       "       [5.4205000e+02, 1.0000000e+00, 5.1743150e+04, 0.0000000e+00,\n",
       "        0.0000000e+00, 0.0000000e+00],\n",
       "       [6.5605480e+04, 1.0000000e+00, 1.5303206e+05, 1.0713838e+05,\n",
       "        0.0000000e+00, 0.0000000e+00],\n",
       "       [1.1452361e+05, 1.0000000e+00, 1.2261684e+05, 2.6177623e+05,\n",
       "        0.0000000e+00, 0.0000000e+00],\n",
       "       [6.1994480e+04, 0.0000000e+00, 1.1564128e+05, 9.1131240e+04,\n",
       "        0.0000000e+00, 1.0000000e+00],\n",
       "       [6.3408860e+04, 0.0000000e+00, 1.2921961e+05, 4.6085250e+04,\n",
       "        1.0000000e+00, 0.0000000e+00],\n",
       "       [7.8013110e+04, 0.0000000e+00, 1.2159755e+05, 2.6434606e+05,\n",
       "        1.0000000e+00, 0.0000000e+00],\n",
       "       [2.3640930e+04, 0.0000000e+00, 9.6189630e+04, 1.4800111e+05,\n",
       "        1.0000000e+00, 0.0000000e+00],\n",
       "       [7.6253860e+04, 0.0000000e+00, 1.1386730e+05, 2.9866447e+05,\n",
       "        1.0000000e+00, 0.0000000e+00],\n",
       "       [1.5505730e+04, 1.0000000e+00, 1.2738230e+05, 3.5534170e+04,\n",
       "        0.0000000e+00, 0.0000000e+00],\n",
       "       [1.2054252e+05, 1.0000000e+00, 1.4871895e+05, 3.1161329e+05,\n",
       "        0.0000000e+00, 0.0000000e+00],\n",
       "       [9.1992390e+04, 0.0000000e+00, 1.3549507e+05, 2.5266493e+05,\n",
       "        1.0000000e+00, 0.0000000e+00],\n",
       "       [6.4664710e+04, 0.0000000e+00, 1.3955316e+05, 1.3796262e+05,\n",
       "        1.0000000e+00, 0.0000000e+00],\n",
       "       [1.3187690e+05, 1.0000000e+00, 9.9814710e+04, 3.6286136e+05,\n",
       "        0.0000000e+00, 0.0000000e+00],\n",
       "       [9.4657160e+04, 1.0000000e+00, 1.4507758e+05, 2.8257431e+05,\n",
       "        0.0000000e+00, 0.0000000e+00],\n",
       "       [2.8754330e+04, 0.0000000e+00, 1.1854605e+05, 1.7279567e+05,\n",
       "        1.0000000e+00, 0.0000000e+00],\n",
       "       [0.0000000e+00, 0.0000000e+00, 1.1698380e+05, 4.5173060e+04,\n",
       "        1.0000000e+00, 0.0000000e+00],\n",
       "       [1.6259770e+05, 0.0000000e+00, 1.5137759e+05, 4.4389853e+05,\n",
       "        1.0000000e+00, 0.0000000e+00],\n",
       "       [9.3863750e+04, 0.0000000e+00, 1.2732038e+05, 2.4983944e+05,\n",
       "        0.0000000e+00, 1.0000000e+00],\n",
       "       [4.4069950e+04, 0.0000000e+00, 5.1283140e+04, 1.9702942e+05,\n",
       "        1.0000000e+00, 0.0000000e+00],\n",
       "       [7.7044010e+04, 1.0000000e+00, 9.9281340e+04, 1.4057481e+05,\n",
       "        0.0000000e+00, 0.0000000e+00],\n",
       "       [1.3461546e+05, 0.0000000e+00, 1.4719887e+05, 1.2771682e+05,\n",
       "        1.0000000e+00, 0.0000000e+00],\n",
       "       [6.7532530e+04, 0.0000000e+00, 1.0575103e+05, 3.0476873e+05,\n",
       "        0.0000000e+00, 1.0000000e+00],\n",
       "       [2.8663760e+04, 0.0000000e+00, 1.2705621e+05, 2.0112682e+05,\n",
       "        0.0000000e+00, 1.0000000e+00],\n",
       "       [7.8389470e+04, 1.0000000e+00, 1.5377343e+05, 2.9973729e+05,\n",
       "        0.0000000e+00, 0.0000000e+00],\n",
       "       [8.6419700e+04, 1.0000000e+00, 1.5351411e+05, 0.0000000e+00,\n",
       "        0.0000000e+00, 0.0000000e+00],\n",
       "       [1.2333488e+05, 0.0000000e+00, 1.0867917e+05, 3.0498162e+05,\n",
       "        1.0000000e+00, 0.0000000e+00],\n",
       "       [3.8558510e+04, 0.0000000e+00, 8.2982090e+04, 1.7499930e+05,\n",
       "        1.0000000e+00, 0.0000000e+00],\n",
       "       [1.3154600e+03, 0.0000000e+00, 1.1581621e+05, 2.9711446e+05,\n",
       "        0.0000000e+00, 1.0000000e+00],\n",
       "       [1.4437241e+05, 1.0000000e+00, 1.1867185e+05, 3.8319962e+05,\n",
       "        0.0000000e+00, 0.0000000e+00],\n",
       "       [1.6534920e+05, 1.0000000e+00, 1.3689780e+05, 4.7178410e+05,\n",
       "        0.0000000e+00, 0.0000000e+00],\n",
       "       [0.0000000e+00, 0.0000000e+00, 1.3542692e+05, 0.0000000e+00,\n",
       "        1.0000000e+00, 0.0000000e+00],\n",
       "       [2.2177740e+04, 0.0000000e+00, 1.5480614e+05, 2.8334720e+04,\n",
       "        1.0000000e+00, 0.0000000e+00]])"
      ]
     },
     "execution_count": 41,
     "metadata": {},
     "output_type": "execute_result"
    }
   ],
   "source": [
    "X_train"
   ]
  },
  {
   "cell_type": "code",
   "execution_count": 42,
   "id": "d09f66ff",
   "metadata": {},
   "outputs": [
    {
     "data": {
      "text/plain": [
       "array([ 96778.92,  96479.51, 105733.54,  96712.8 , 124266.9 , 155752.6 ,\n",
       "       132602.65,  64926.08,  35673.41, 101004.64, 129917.04,  99937.59,\n",
       "        97427.84, 126992.93,  71498.49, 118474.03,  69758.98, 152211.77,\n",
       "       134307.35, 107404.34, 156991.12, 125370.37,  78239.91,  14681.4 ,\n",
       "       191792.06, 141585.52,  89949.14, 108552.04, 156122.51, 108733.99,\n",
       "        90708.19, 111313.02, 122776.86, 149759.96,  81005.76,  49490.75,\n",
       "       182901.99, 192261.83,  42559.73,  65200.33])"
      ]
     },
     "execution_count": 42,
     "metadata": {},
     "output_type": "execute_result"
    }
   ],
   "source": [
    "y_train"
   ]
  },
  {
   "cell_type": "code",
   "execution_count": 43,
   "id": "4ebdbe20",
   "metadata": {},
   "outputs": [
    {
     "data": {
      "text/plain": [
       "array([[6.6051520e+04, 0.0000000e+00, 1.8264556e+05, 1.1814820e+05,\n",
       "        0.0000000e+00, 1.0000000e+00],\n",
       "       [1.0067196e+05, 0.0000000e+00, 9.1790610e+04, 2.4974455e+05,\n",
       "        1.0000000e+00, 0.0000000e+00],\n",
       "       [1.0191308e+05, 0.0000000e+00, 1.1059411e+05, 2.2916095e+05,\n",
       "        0.0000000e+00, 1.0000000e+00],\n",
       "       [2.7892920e+04, 0.0000000e+00, 8.4710770e+04, 1.6447071e+05,\n",
       "        0.0000000e+00, 1.0000000e+00],\n",
       "       [1.5344151e+05, 0.0000000e+00, 1.0114555e+05, 4.0793454e+05,\n",
       "        0.0000000e+00, 1.0000000e+00],\n",
       "       [7.2107600e+04, 1.0000000e+00, 1.2786455e+05, 3.5318381e+05,\n",
       "        0.0000000e+00, 0.0000000e+00],\n",
       "       [2.0229590e+04, 1.0000000e+00, 6.5947930e+04, 1.8526510e+05,\n",
       "        0.0000000e+00, 0.0000000e+00],\n",
       "       [6.1136380e+04, 1.0000000e+00, 1.5270192e+05, 8.8218230e+04,\n",
       "        0.0000000e+00, 0.0000000e+00],\n",
       "       [7.3994560e+04, 0.0000000e+00, 1.2278275e+05, 3.0331926e+05,\n",
       "        0.0000000e+00, 1.0000000e+00],\n",
       "       [1.4210734e+05, 0.0000000e+00, 9.1391770e+04, 3.6616842e+05,\n",
       "        0.0000000e+00, 1.0000000e+00]])"
      ]
     },
     "execution_count": 43,
     "metadata": {},
     "output_type": "execute_result"
    }
   ],
   "source": [
    "X_test"
   ]
  },
  {
   "cell_type": "code",
   "execution_count": 44,
   "id": "5e559544",
   "metadata": {},
   "outputs": [
    {
     "data": {
      "text/plain": [
       "array([103282.38, 144259.4 , 146121.95,  77798.83, 191050.39, 105008.31,\n",
       "        81229.06,  97483.56, 110352.25, 166187.94])"
      ]
     },
     "execution_count": 44,
     "metadata": {},
     "output_type": "execute_result"
    }
   ],
   "source": [
    "y_test"
   ]
  },
  {
   "cell_type": "markdown",
   "id": "9efd10a7",
   "metadata": {},
   "source": [
    "### Linear Regression"
   ]
  },
  {
   "cell_type": "code",
   "execution_count": 48,
   "id": "7b7bd17e",
   "metadata": {},
   "outputs": [],
   "source": [
    "# Standardization of data\n",
    "from sklearn.preprocessing import StandardScaler\n",
    "scaler = MinMaxScaler()\n",
    "\n",
    "X_train = scaler.fit_transform(X_train)\n",
    "X_test = scaler.transform(X_test)"
   ]
  },
  {
   "cell_type": "code",
   "execution_count": 51,
   "id": "6b4995f2",
   "metadata": {},
   "outputs": [
    {
     "data": {
      "text/plain": [
       "array([[0.33561668, 0.        , 0.48655174, 0.45494286, 0.        ,\n",
       "        1.        ],\n",
       "       [0.2782839 , 1.        , 0.3173015 , 0.43561799, 0.        ,\n",
       "        0.        ],\n",
       "       [0.45557444, 0.        , 0.87258866, 0.28413435, 0.        ,\n",
       "        1.        ],\n",
       "       [0.2807759 , 0.        , 1.        , 0.44680961, 1.        ,\n",
       "        0.        ],\n",
       "       [0.55488118, 0.        , 0.59103645, 0.62511553, 0.        ,\n",
       "        1.        ],\n",
       "       [0.7880179 , 0.        , 0.88568959, 0.68649342, 0.        ,\n",
       "        1.        ],\n",
       "       [0.72539353, 0.        , 0.98922572, 0.54370828, 0.        ,\n",
       "        1.        ],\n",
       "       [0.0060492 , 1.        , 0.6847981 , 0.0040356 , 0.        ,\n",
       "        0.        ],\n",
       "       [0.00327821, 1.        , 0.00432296, 0.        , 0.        ,\n",
       "        0.        ],\n",
       "       [0.39676926, 1.        , 0.95618996, 0.22709197, 0.        ,\n",
       "        0.        ]])"
      ]
     },
     "execution_count": 51,
     "metadata": {},
     "output_type": "execute_result"
    }
   ],
   "source": [
    "X_train[:10]"
   ]
  },
  {
   "cell_type": "code",
   "execution_count": 50,
   "id": "aab42a7d",
   "metadata": {
    "scrolled": true
   },
   "outputs": [
    {
     "data": {
      "text/plain": [
       "array([[0.39946683, 0.        , 1.23448414, 0.25042853, 0.        ,\n",
       "        1.        ],\n",
       "       [0.60884455, 0.        , 0.38067074, 0.52936195, 1.        ,\n",
       "        0.        ],\n",
       "       [0.61635061, 0.        , 0.55737746, 0.48573267, 0.        ,\n",
       "        1.        ],\n",
       "       [0.16869099, 0.        , 0.31413763, 0.34861436, 0.        ,\n",
       "        1.        ],\n",
       "       [0.92798459, 0.        , 0.4685842 , 0.8646636 , 0.        ,\n",
       "        1.        ],\n",
       "       [0.43609283, 1.        , 0.71967718, 0.74861321, 0.        ,\n",
       "        0.        ],\n",
       "       [0.12234465, 1.        , 0.13781301, 0.39269043, 0.        ,\n",
       "        0.        ],\n",
       "       [0.36974101, 1.        , 0.95308746, 0.18698856, 0.        ,\n",
       "        0.        ],\n",
       "       [0.4475048 , 0.        , 0.67192074, 0.64291963, 0.        ,\n",
       "        1.        ],\n",
       "       [0.85943772, 0.        , 0.37692262, 0.77613557, 0.        ,\n",
       "        1.        ]])"
      ]
     },
     "execution_count": 50,
     "metadata": {},
     "output_type": "execute_result"
    }
   ],
   "source": [
    "X_test"
   ]
  },
  {
   "cell_type": "code",
   "execution_count": 52,
   "id": "60f4861b",
   "metadata": {},
   "outputs": [],
   "source": [
    "# linear regression\n",
    "from sklearn.linear_model import LinearRegression\n",
    "\n",
    "# cross validation\n",
    "from sklearn.model_selection import cross_val_score"
   ]
  },
  {
   "cell_type": "code",
   "execution_count": 53,
   "id": "f11ade97",
   "metadata": {},
   "outputs": [
    {
     "data": {
      "text/plain": [
       "LinearRegression()"
      ]
     },
     "execution_count": 53,
     "metadata": {},
     "output_type": "execute_result"
    }
   ],
   "source": [
    "regressor = LinearRegression()\n",
    "regressor.fit(X_train,y_train)"
   ]
  },
  {
   "cell_type": "code",
   "execution_count": 57,
   "id": "3de79311",
   "metadata": {},
   "outputs": [
    {
     "data": {
      "text/plain": [
       "-125689823.34362563"
      ]
     },
     "execution_count": 57,
     "metadata": {},
     "output_type": "execute_result"
    }
   ],
   "source": [
    "mse = cross_val_score(regressor,X_train,y_train,scoring ='neg_mean_squared_error',cv = 10)\n",
    "\n",
    "mse = np.mean(mse)\n",
    "\n",
    "mse"
   ]
  },
  {
   "cell_type": "code",
   "execution_count": 58,
   "id": "6d09b2d0",
   "metadata": {},
   "outputs": [],
   "source": [
    "# prediction\n",
    "y_pred = regressor.predict(X_test)"
   ]
  },
  {
   "cell_type": "code",
   "execution_count": 60,
   "id": "45255abd",
   "metadata": {},
   "outputs": [
    {
     "data": {
      "text/plain": [
       "array([103015.20159796, 132582.27760816, 132447.73845174,  71976.09851258,\n",
       "       178537.48221055, 116161.24230165,  67851.69209676,  98791.73374687,\n",
       "       113969.43533012, 167921.0656955 ])"
      ]
     },
     "execution_count": 60,
     "metadata": {},
     "output_type": "execute_result"
    }
   ],
   "source": [
    "y_pred"
   ]
  },
  {
   "cell_type": "code",
   "execution_count": 61,
   "id": "dab1acb4",
   "metadata": {},
   "outputs": [
    {
     "name": "stderr",
     "output_type": "stream",
     "text": [
      "C:\\Users\\Prathamesh\\anaconda3\\lib\\site-packages\\seaborn\\distributions.py:2619: FutureWarning: `distplot` is a deprecated function and will be removed in a future version. Please adapt your code to use either `displot` (a figure-level function with similar flexibility) or `histplot` (an axes-level function for histograms).\n",
      "  warnings.warn(msg, FutureWarning)\n"
     ]
    },
    {
     "data": {
      "text/plain": [
       "<AxesSubplot:ylabel='Density'>"
      ]
     },
     "execution_count": 61,
     "metadata": {},
     "output_type": "execute_result"
    },
    {
     "data": {
      "image/png": "[encoded data removed]",
      "text/plain": [
       "<Figure size 432x288 with 1 Axes>"
      ]
     },
     "metadata": {
      "needs_background": "light"
     },
     "output_type": "display_data"
    }
   ],
   "source": [
    "# testing\n",
    "import seaborn as sns\n",
    "sns.distplot(y_pred - y_test)"
   ]
  },
  {
   "cell_type": "code",
   "execution_count": 59,
   "id": "1d1c94e1",
   "metadata": {},
   "outputs": [
    {
     "data": {
      "text/plain": [
       "9137.990152794944"
      ]
     },
     "execution_count": 59,
     "metadata": {},
     "output_type": "execute_result"
    }
   ],
   "source": [
    "math.sqrt(mean_squared_error(y_test, y_pred))"
   ]
  },
  {
   "cell_type": "code",
   "execution_count": 62,
   "id": "5cc09904",
   "metadata": {},
   "outputs": [],
   "source": [
    "from sklearn.metrics import r2_score\n",
    "\n",
    "score = r2_score(y_test,y_pred)"
   ]
  },
  {
   "cell_type": "code",
   "execution_count": 64,
   "id": "c36cc62c",
   "metadata": {},
   "outputs": [
    {
     "data": {
      "text/plain": [
       "0.9347068473282425"
      ]
     },
     "execution_count": 64,
     "metadata": {},
     "output_type": "execute_result"
    }
   ],
   "source": [
    "score"
   ]
  },
  {
   "cell_type": "code",
   "execution_count": 65,
   "id": "eb2036ed",
   "metadata": {},
   "outputs": [],
   "source": [
    "# validatatins\n",
    "y_train_pred = regressor.predict(X_train)\n",
    "y_test_pred = regressor.predict(X_test)"
   ]
  },
  {
   "cell_type": "code",
   "execution_count": 66,
   "id": "57b4da6e",
   "metadata": {},
   "outputs": [],
   "source": [
    "# Residual = Actual - predicted\n",
    "residuals_train = y_train - y_train_pred\n",
    "residuals_test = y_test - y_test_pred"
   ]
  },
  {
   "cell_type": "markdown",
   "id": "2fdf2c74",
   "metadata": {},
   "source": [
    "## Checks for heteroscedasticity"
   ]
  },
  {
   "cell_type": "code",
   "execution_count": 67,
   "id": "88a32c0c",
   "metadata": {},
   "outputs": [
    {
     "data": {
      "image/png": "[encoded data removed]",
      "text/plain": [
       "<Figure size 432x288 with 1 Axes>"
      ]
     },
     "metadata": {
      "needs_background": "light"
     },
     "output_type": "display_data"
    }
   ],
   "source": [
    "#Scatter plot between residual and fitted values\n",
    "plt.scatter(y_train_pred ,residuals_train, c='red' )\n",
    "plt.title('Scatter plot between residual and actual profit')\n",
    "plt.xlabel('Predicted Profit')\n",
    "plt.ylabel('Residual')\n",
    "plt.show()"
   ]
  },
  {
   "cell_type": "markdown",
   "id": "b8bc406c",
   "metadata": {},
   "source": [
    "### \n",
    "Seems like there is no significant pattern visible. So the assumption of homoscedasticity is valid."
   ]
  },
  {
   "cell_type": "markdown",
   "id": "0084429a",
   "metadata": {},
   "source": [
    "### Let's check if the mean of residuals is almost zero:"
   ]
  },
  {
   "cell_type": "code",
   "execution_count": 68,
   "id": "8771799f",
   "metadata": {},
   "outputs": [
    {
     "data": {
      "text/plain": [
       "0"
      ]
     },
     "execution_count": 68,
     "metadata": {},
     "output_type": "execute_result"
    }
   ],
   "source": [
    "round((np.mean(residuals_train)))"
   ]
  },
  {
   "cell_type": "markdown",
   "id": "fcd00e03",
   "metadata": {},
   "source": [
    "####\n",
    "mean of residual is almost zero"
   ]
  },
  {
   "cell_type": "markdown",
   "id": "10a5ebad",
   "metadata": {},
   "source": [
    "### Let's check for multicollinearity:"
   ]
  },
  {
   "cell_type": "code",
   "execution_count": 71,
   "id": "21b55666",
   "metadata": {},
   "outputs": [
    {
     "data": {
      "text/plain": [
       "<AxesSubplot:>"
      ]
     },
     "execution_count": 71,
     "metadata": {},
     "output_type": "execute_result"
    },
    {
     "data": {
      "image/png": "[encoded data removed]",
      "text/plain": [
       "<Figure size 1080x720 with 2 Axes>"
      ]
     },
     "metadata": {
      "needs_background": "light"
     },
     "output_type": "display_data"
    }
   ],
   "source": [
    "plt.figure(figsize=(15, 10))\n",
    "sns.heatmap(df[independent_variables].corr(),  annot=True, cmap=\"YlGnBu\")"
   ]
  },
  {
   "cell_type": "markdown",
   "id": "e9b8105c",
   "metadata": {},
   "source": [
    ". Correlation between marketing spend and R&D spend is very high, hence it needs attention\n",
    "\n",
    "ii. Ignoring the correlations between binary variables (state dummy variables) as of now"
   ]
  },
  {
   "cell_type": "markdown",
   "id": "17046a36",
   "metadata": {},
   "source": [
    "### Evaluation Metrics"
   ]
  },
  {
   "cell_type": "code",
   "execution_count": 78,
   "id": "919292ac",
   "metadata": {},
   "outputs": [],
   "source": [
    "def print_metrics(actual,predicted):\n",
    "    print('MSE is {}' .format(mean_squared_error(actual, predicted)))\n",
    "    print('RMSE is {}'.format(math.sqrt(mean_squared_error(actual, predicted))))\n",
    "    print('RMSE is {}'.format(r2_score(actual, predicted)))\n",
    "    #print('MAE is {}'.format(mean_absolute_error(actual, predicted)))\n",
    "    print('MAPE is {}'.format(np.mean(np.abs((actual - predicted) / actual)) * 100))\n",
    "  "
   ]
  },
  {
   "cell_type": "code",
   "execution_count": 79,
   "id": "9da40912",
   "metadata": {},
   "outputs": [
    {
     "name": "stdout",
     "output_type": "stream",
     "text": [
      "MSE is 81571001.80077368\n",
      "RMSE is 9031.666612578969\n",
      "RMSE is 0.9501847627493607\n",
      "MAPE is 11.643543574245026\n"
     ]
    }
   ],
   "source": [
    "# Training dataset metrics\n",
    "print_metrics(y_train, y_train_pred)"
   ]
  },
  {
   "cell_type": "code",
   "execution_count": 80,
   "id": "bed400c9",
   "metadata": {},
   "outputs": [
    {
     "name": "stdout",
     "output_type": "stream",
     "text": [
      "MSE is 83502864.03257735\n",
      "RMSE is 9137.990152794944\n",
      "RMSE is 0.9347068473282425\n",
      "MAPE is 6.449754085355488\n"
     ]
    }
   ],
   "source": [
    "# Test dataset metrics\n",
    "print_metrics(y_test, y_test_pred)"
   ]
  },
  {
   "cell_type": "markdown",
   "id": "cda3408e",
   "metadata": {},
   "source": [
    "Training set errors and test set errors are almost same, so no underfitting or overfitting detected."
   ]
  },
  {
   "cell_type": "code",
   "execution_count": 81,
   "id": "66c59499",
   "metadata": {},
   "outputs": [],
   "source": [
    "# Adjusted R2\n",
    "\n",
    "def adjusted_r2(n, k, actual, predicted):\n",
    "  return 1 - (((n-1)/(n-k-1))*(1-r2_score(actual, predicted)))"
   ]
  },
  {
   "cell_type": "code",
   "execution_count": 82,
   "id": "7be9affb",
   "metadata": {},
   "outputs": [
    {
     "data": {
      "text/plain": [
       "0.9411274468856081"
      ]
     },
     "execution_count": 82,
     "metadata": {},
     "output_type": "execute_result"
    }
   ],
   "source": [
    "adjusted_r2(len(y_train),len(independent_variables), y_train, y_train_pred)"
   ]
  },
  {
   "cell_type": "code",
   "execution_count": 83,
   "id": "033d41bb",
   "metadata": {},
   "outputs": [
    {
     "data": {
      "text/plain": [
       "0.9228353650242865"
      ]
     },
     "execution_count": 83,
     "metadata": {},
     "output_type": "execute_result"
    }
   ],
   "source": [
    "adjusted_r2(len(y_train),len(independent_variables), y_test, y_test_pred)"
   ]
  },
  {
   "cell_type": "code",
   "execution_count": null,
   "id": "048617e6",
   "metadata": {},
   "outputs": [],
   "source": []
  }
 ],
 "metadata": {
  "kernelspec": {
   "display_name": "Python 3 (ipykernel)",
   "language": "python",
   "name": "python3"
  },
  "language_info": {
   "codemirror_mode": {
    "name": "ipython",
    "version": 3
   },
   "file_extension": ".py",
   "mimetype": "text/x-python",
   "name": "python",
   "nbconvert_exporter": "python",
   "pygments_lexer": "ipython3",
   "version": "3.10.9"
  }
 },
 "nbformat": 4,
 "nbformat_minor": 5
}
